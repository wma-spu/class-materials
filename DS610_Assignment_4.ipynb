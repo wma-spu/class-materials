{
  "nbformat": 4,
  "nbformat_minor": 0,
  "metadata": {
    "colab": {
      "name": "DS610 Assignment 4.ipynb",
      "provenance": [],
      "collapsed_sections": [],
      "authorship_tag": "ABX9TyOPNCfrFoxhFxFug9cP6L/N",
      "include_colab_link": true
    },
    "kernelspec": {
      "name": "python3",
      "display_name": "Python 3"
    },
    "language_info": {
      "name": "python"
    }
  },
  "cells": [
    {
      "cell_type": "markdown",
      "metadata": {
        "id": "view-in-github",
        "colab_type": "text"
      },
      "source": [
        "<a href=\"https://colab.research.google.com/github/wma-spu/class-materials/blob/main/DS610_Assignment_4.ipynb\" target=\"_parent\"><img src=\"https://colab.research.google.com/assets/colab-badge.svg\" alt=\"Open In Colab\"/></a>"
      ]
    },
    {
      "cell_type": "code",
      "metadata": {
        "colab": {
          "base_uri": "https://localhost:8080/"
        },
        "id": "0tCwqIQ5BtVy",
        "outputId": "0033c2b1-638d-415c-8a41-7d6694c66979"
      },
      "source": [
        "# install java libs and spark.\n",
        "!apt update > /dev/null\n",
        "!apt-get install openjdk-8-jdk-headless -qq > /dev/null\n",
        "!wget -q https://downloads.apache.org/spark/spark-3.1.2/spark-3.1.2-bin-hadoop3.2.tgz\n",
        "!tar xf spark-3.1.2-bin-hadoop3.2.tgz\n",
        "!pip install -q findspark"
      ],
      "execution_count": 1,
      "outputs": [
        {
          "output_type": "stream",
          "text": [
            "\n",
            "WARNING: apt does not have a stable CLI interface. Use with caution in scripts.\n",
            "\n"
          ],
          "name": "stdout"
        }
      ]
    },
    {
      "cell_type": "code",
      "metadata": {
        "id": "Skcfu1AKCs2O"
      },
      "source": [
        "# set environment variables for java and spark\n",
        "import os\n",
        "os.environ[\"JAVA_HOME\"] = \"/usr/lib/jvm/java-8-openjdk-amd64\"\n",
        "os.environ[\"SPARK_HOME\"] = \"/content/spark-3.1.2-bin-hadoop3.2\"\n",
        "# add pyspark to sys.path\n",
        "import findspark\n",
        "findspark.init()"
      ],
      "execution_count": 2,
      "outputs": []
    },
    {
      "cell_type": "code",
      "metadata": {
        "colab": {
          "base_uri": "https://localhost:8080/"
        },
        "id": "LpCktUocCtHO",
        "outputId": "a71397a7-58fa-4bd6-cdd5-14893b67a725"
      },
      "source": [
        "from google.colab import drive\n",
        "drive.mount('/content/drive')"
      ],
      "execution_count": 3,
      "outputs": [
        {
          "output_type": "stream",
          "text": [
            "Mounted at /content/drive\n"
          ],
          "name": "stdout"
        }
      ]
    },
    {
      "cell_type": "code",
      "metadata": {
        "id": "iBiQRAAuCtQg"
      },
      "source": [
        "from pyspark.sql import SparkSession\n",
        "spark = SparkSession.builder.master(\"local[*]\").getOrCreate()"
      ],
      "execution_count": 4,
      "outputs": []
    },
    {
      "cell_type": "code",
      "metadata": {
        "colab": {
          "base_uri": "https://localhost:8080/"
        },
        "id": "9sn5AH99CtUJ",
        "outputId": "61862ac3-5633-428e-f83c-0503e2d60641"
      },
      "source": [
        "dataFrame = spark.read.format(\"CSV\").option(\"header\",\"true\").load('/content/drive/MyDrive/AirlineInfo/*.csv.bz2')\n",
        "dataFrame.show(5)\n",
        "dataFrame.printSchema()"
      ],
      "execution_count": 5,
      "outputs": [
        {
          "output_type": "stream",
          "text": [
            "+----+-----+----------+---------+-------+----------+-------+----------+-------------+---------+-------+-----------------+--------------+-------+--------+--------+------+----+--------+------+-------+---------+----------------+--------+------------+------------+--------+-------------+-----------------+\n",
            "|Year|Month|DayofMonth|DayOfWeek|DepTime|CRSDepTime|ArrTime|CRSArrTime|UniqueCarrier|FlightNum|TailNum|ActualElapsedTime|CRSElapsedTime|AirTime|ArrDelay|DepDelay|Origin|Dest|Distance|TaxiIn|TaxiOut|Cancelled|CancellationCode|Diverted|CarrierDelay|WeatherDelay|NASDelay|SecurityDelay|LateAircraftDelay|\n",
            "+----+-----+----------+---------+-------+----------+-------+----------+-------------+---------+-------+-----------------+--------------+-------+--------+--------+------+----+--------+------+-------+---------+----------------+--------+------------+------------+--------+-------------+-----------------+\n",
            "|2007|    1|         1|        1|   1232|      1225|   1341|      1340|           WN|     2891|   N351|               69|            75|     54|       1|       7|   SMF| ONT|     389|     4|     11|        0|            null|       0|           0|           0|       0|            0|                0|\n",
            "|2007|    1|         1|        1|   1918|      1905|   2043|      2035|           WN|      462|   N370|               85|            90|     74|       8|      13|   SMF| PDX|     479|     5|      6|        0|            null|       0|           0|           0|       0|            0|                0|\n",
            "|2007|    1|         1|        1|   2206|      2130|   2334|      2300|           WN|     1229|   N685|               88|            90|     73|      34|      36|   SMF| PDX|     479|     6|      9|        0|            null|       0|           3|           0|       0|            0|               31|\n",
            "|2007|    1|         1|        1|   1230|      1200|   1356|      1330|           WN|     1355|   N364|               86|            90|     75|      26|      30|   SMF| PDX|     479|     3|      8|        0|            null|       0|          23|           0|       0|            0|                3|\n",
            "|2007|    1|         1|        1|    831|       830|    957|      1000|           WN|     2278|   N480|               86|            90|     74|      -3|       1|   SMF| PDX|     479|     3|      9|        0|            null|       0|           0|           0|       0|            0|                0|\n",
            "+----+-----+----------+---------+-------+----------+-------+----------+-------------+---------+-------+-----------------+--------------+-------+--------+--------+------+----+--------+------+-------+---------+----------------+--------+------------+------------+--------+-------------+-----------------+\n",
            "only showing top 5 rows\n",
            "\n",
            "root\n",
            " |-- Year: string (nullable = true)\n",
            " |-- Month: string (nullable = true)\n",
            " |-- DayofMonth: string (nullable = true)\n",
            " |-- DayOfWeek: string (nullable = true)\n",
            " |-- DepTime: string (nullable = true)\n",
            " |-- CRSDepTime: string (nullable = true)\n",
            " |-- ArrTime: string (nullable = true)\n",
            " |-- CRSArrTime: string (nullable = true)\n",
            " |-- UniqueCarrier: string (nullable = true)\n",
            " |-- FlightNum: string (nullable = true)\n",
            " |-- TailNum: string (nullable = true)\n",
            " |-- ActualElapsedTime: string (nullable = true)\n",
            " |-- CRSElapsedTime: string (nullable = true)\n",
            " |-- AirTime: string (nullable = true)\n",
            " |-- ArrDelay: string (nullable = true)\n",
            " |-- DepDelay: string (nullable = true)\n",
            " |-- Origin: string (nullable = true)\n",
            " |-- Dest: string (nullable = true)\n",
            " |-- Distance: string (nullable = true)\n",
            " |-- TaxiIn: string (nullable = true)\n",
            " |-- TaxiOut: string (nullable = true)\n",
            " |-- Cancelled: string (nullable = true)\n",
            " |-- CancellationCode: string (nullable = true)\n",
            " |-- Diverted: string (nullable = true)\n",
            " |-- CarrierDelay: string (nullable = true)\n",
            " |-- WeatherDelay: string (nullable = true)\n",
            " |-- NASDelay: string (nullable = true)\n",
            " |-- SecurityDelay: string (nullable = true)\n",
            " |-- LateAircraftDelay: string (nullable = true)\n",
            "\n"
          ],
          "name": "stdout"
        }
      ]
    },
    {
      "cell_type": "code",
      "metadata": {
        "id": "-4x_0yB2oMeL"
      },
      "source": [
        "dataFrame = dataFrame.withColumn(\"ArrDelay\",dataFrame.ArrDelay.cast('integer')) \\\n",
        "                     .withColumn(\"DepDelay\",dataFrame.DepDelay.cast('integer')) \\\n",
        "                     .withColumn(\"Cancelled\",dataFrame.Cancelled.cast('integer'))\n",
        "dataFrame = dataFrame[['UniqueCarrier', 'FlightNum', 'Origin', 'Dest', 'DayofMonth', 'DayOfWeek', 'ArrDelay', 'DepDelay', 'Cancelled']]"
      ],
      "execution_count": 6,
      "outputs": []
    },
    {
      "cell_type": "code",
      "metadata": {
        "colab": {
          "base_uri": "https://localhost:8080/"
        },
        "id": "wmtVxuI1tlkS",
        "outputId": "b7a8ab04-6ba6-466c-fbab-6d86feb50480"
      },
      "source": [
        "dataFrame.show(5)\n",
        "dataFrame.printSchema()"
      ],
      "execution_count": 7,
      "outputs": [
        {
          "output_type": "stream",
          "text": [
            "+-------------+---------+------+----+----------+---------+--------+--------+---------+\n",
            "|UniqueCarrier|FlightNum|Origin|Dest|DayofMonth|DayOfWeek|ArrDelay|DepDelay|Cancelled|\n",
            "+-------------+---------+------+----+----------+---------+--------+--------+---------+\n",
            "|           WN|     2891|   SMF| ONT|         1|        1|       1|       7|        0|\n",
            "|           WN|      462|   SMF| PDX|         1|        1|       8|      13|        0|\n",
            "|           WN|     1229|   SMF| PDX|         1|        1|      34|      36|        0|\n",
            "|           WN|     1355|   SMF| PDX|         1|        1|      26|      30|        0|\n",
            "|           WN|     2278|   SMF| PDX|         1|        1|      -3|       1|        0|\n",
            "+-------------+---------+------+----+----------+---------+--------+--------+---------+\n",
            "only showing top 5 rows\n",
            "\n",
            "root\n",
            " |-- UniqueCarrier: string (nullable = true)\n",
            " |-- FlightNum: string (nullable = true)\n",
            " |-- Origin: string (nullable = true)\n",
            " |-- Dest: string (nullable = true)\n",
            " |-- DayofMonth: string (nullable = true)\n",
            " |-- DayOfWeek: string (nullable = true)\n",
            " |-- ArrDelay: integer (nullable = true)\n",
            " |-- DepDelay: integer (nullable = true)\n",
            " |-- Cancelled: integer (nullable = true)\n",
            "\n"
          ],
          "name": "stdout"
        }
      ]
    },
    {
      "cell_type": "markdown",
      "metadata": {
        "id": "eJvUDq2awhYY"
      },
      "source": [
        "\n",
        "\n",
        "**1.   Find the # of flights each airline made so far from 1987 until recent.**\n",
        "\n",
        "\n",
        "\n"
      ]
    },
    {
      "cell_type": "code",
      "metadata": {
        "colab": {
          "base_uri": "https://localhost:8080/"
        },
        "id": "zDtc0iPRCtZ4",
        "outputId": "76b36a26-9ed1-4400-a3b0-3b3d87a22215"
      },
      "source": [
        "countDF = dataFrame.groupBy(['UniqueCarrier', 'FlightNum']).count()\n",
        "countDF.show(20)\n",
        "countDF.persist()"
      ],
      "execution_count": 25,
      "outputs": [
        {
          "output_type": "stream",
          "text": [
            "+-------------+---------+-----+\n",
            "|UniqueCarrier|FlightNum|count|\n",
            "+-------------+---------+-----+\n",
            "|           WN|      179| 7401|\n",
            "|           WN|     1710|10287|\n",
            "|           WN|      563|16907|\n",
            "|           WN|      116|10117|\n",
            "|           WN|      301| 5256|\n",
            "|           WN|     1293| 8468|\n",
            "|           WN|     1353| 1002|\n",
            "|           WN|     1824| 2028|\n",
            "|           WN|     1635| 5123|\n",
            "|           WN|      987| 9260|\n",
            "|           WN|     2292|  764|\n",
            "|           XE|     3186|  436|\n",
            "|           XE|     3141|  716|\n",
            "|           XE|     2856| 1811|\n",
            "|           XE|     2441| 2242|\n",
            "|           XE|     2231| 2142|\n",
            "|           XE|     2509| 1420|\n",
            "|           YV|     7428|  411|\n",
            "|           YV|     2991|  131|\n",
            "|           OH|     5407| 1768|\n",
            "+-------------+---------+-----+\n",
            "only showing top 20 rows\n",
            "\n"
          ],
          "name": "stdout"
        },
        {
          "output_type": "execute_result",
          "data": {
            "text/plain": [
              "DataFrame[UniqueCarrier: string, FlightNum: string, count: bigint]"
            ]
          },
          "metadata": {
            "tags": []
          },
          "execution_count": 25
        }
      ]
    },
    {
      "cell_type": "markdown",
      "metadata": {
        "id": "79UpwuorwSIJ"
      },
      "source": [
        "**2.   Find the mean departure delay per origination airport.**"
      ]
    },
    {
      "cell_type": "code",
      "metadata": {
        "colab": {
          "base_uri": "https://localhost:8080/"
        },
        "id": "PSnOjcCNCteG",
        "outputId": "c0cd46b8-4bf1-4319-96cb-5438d2565ca7"
      },
      "source": [
        "delayDF = dataFrame.groupBy(['Origin']).mean('DepDelay')\n",
        "delayDF.show(20)\n",
        "delayDF_cache = delayDF.cache()"
      ],
      "execution_count": 27,
      "outputs": [
        {
          "output_type": "stream",
          "text": [
            "+------+------------------+\n",
            "|Origin|     avg(DepDelay)|\n",
            "+------+------------------+\n",
            "|   BGM| 4.103673055154378|\n",
            "|   DLG|             10.75|\n",
            "|   PSE|1.9544658493870404|\n",
            "|   INL| 6.168539325842697|\n",
            "|   MSY| 6.554481654634312|\n",
            "|   GEG| 6.038673098079038|\n",
            "|   SNA| 5.813108982130751|\n",
            "|   BUR| 6.695134420234224|\n",
            "|   GRB| 4.685745396013824|\n",
            "|   GTF|3.1319266055045873|\n",
            "|   IDA| 3.023048836147878|\n",
            "|   GRR| 5.625893559603069|\n",
            "|   LWB| 7.619393939393939|\n",
            "|   PVU|               0.0|\n",
            "|   EUG| 7.953983363108531|\n",
            "|   PSG|12.997746320163392|\n",
            "|   PVD| 6.782033406957482|\n",
            "|   GSO|  7.02220425046734|\n",
            "|   MYR| 5.589231543912653|\n",
            "|   ISO|   5.7409200968523|\n",
            "+------+------------------+\n",
            "only showing top 20 rows\n",
            "\n"
          ],
          "name": "stdout"
        }
      ]
    },
    {
      "cell_type": "markdown",
      "metadata": {
        "id": "JmePU8iWkyPS"
      },
      "source": [
        "**3. What day the delays are the worst?**"
      ]
    },
    {
      "cell_type": "code",
      "metadata": {
        "colab": {
          "base_uri": "https://localhost:8080/"
        },
        "id": "2mXnfGCCLJ7b",
        "outputId": "c84a23c7-d35b-424d-9cf4-6ea48678a018"
      },
      "source": [
        "dataFrame.createOrReplaceTempView(\"AIRLINESINFO\")\n",
        "spark.sql(\"select DayOfWeek, avg(ArrDelay) as avg_delay from AIRLINESINFO \" +\n",
        "          \"group by DayOfWeek order by avg_delay desc\").show(1)"
      ],
      "execution_count": 29,
      "outputs": [
        {
          "output_type": "stream",
          "text": [
            "+---------+-----------------+\n",
            "|DayOfWeek|        avg_delay|\n",
            "+---------+-----------------+\n",
            "|        5|9.606953425895007|\n",
            "+---------+-----------------+\n",
            "only showing top 1 row\n",
            "\n"
          ],
          "name": "stdout"
        }
      ]
    },
    {
      "cell_type": "markdown",
      "metadata": {
        "id": "r451yk7gk8T1"
      },
      "source": [
        "**4. What is the average departure delay from each airport?**"
      ]
    },
    {
      "cell_type": "code",
      "metadata": {
        "colab": {
          "base_uri": "https://localhost:8080/"
        },
        "id": "H9s82ImIvWvc",
        "outputId": "b64866de-80dc-4ae1-93f9-fec36bd55ffb"
      },
      "source": [
        "# This is same as question #2. Find the mean departure delay per origination airport.\n",
        "delayDF_cache.show(20)"
      ],
      "execution_count": 30,
      "outputs": [
        {
          "output_type": "stream",
          "text": [
            "+------+------------------+\n",
            "|Origin|     avg(DepDelay)|\n",
            "+------+------------------+\n",
            "|   BGM| 4.103673055154378|\n",
            "|   DLG|             10.75|\n",
            "|   PSE|1.9544658493870404|\n",
            "|   INL| 6.168539325842697|\n",
            "|   MSY| 6.554481654634312|\n",
            "|   GEG| 6.038673098079038|\n",
            "|   SNA| 5.813108982130751|\n",
            "|   BUR| 6.695134420234224|\n",
            "|   GRB| 4.685745396013824|\n",
            "|   GTF|3.1319266055045873|\n",
            "|   IDA| 3.023048836147878|\n",
            "|   GRR| 5.625893559603069|\n",
            "|   LWB| 7.619393939393939|\n",
            "|   PVU|               0.0|\n",
            "|   EUG| 7.953983363108531|\n",
            "|   PSG|12.997746320163392|\n",
            "|   PVD| 6.782033406957482|\n",
            "|   GSO|  7.02220425046734|\n",
            "|   MYR| 5.589231543912653|\n",
            "|   ISO|   5.7409200968523|\n",
            "+------+------------------+\n",
            "only showing top 20 rows\n",
            "\n"
          ],
          "name": "stdout"
        }
      ]
    },
    {
      "cell_type": "markdown",
      "metadata": {
        "id": "izfk7Yq0lD5f"
      },
      "source": [
        "**5. Which day of the week is the most of the flights cancelled?**"
      ]
    },
    {
      "cell_type": "code",
      "metadata": {
        "colab": {
          "base_uri": "https://localhost:8080/"
        },
        "id": "5UDXYgDD70Vl",
        "outputId": "3973d1eb-a367-4527-b717-2553a0a26fc4"
      },
      "source": [
        "from pyspark.sql.functions import sum, desc\n",
        "dataFrame.groupBy(['DayOfWeek']).agg(sum('Cancelled').alias('sum_cancelled')).sort(desc('sum_cancelled')).show(1)"
      ],
      "execution_count": 31,
      "outputs": [
        {
          "output_type": "stream",
          "text": [
            "+---------+-------------+\n",
            "|DayOfWeek|sum_cancelled|\n",
            "+---------+-------------+\n",
            "|        2|       376554|\n",
            "+---------+-------------+\n",
            "only showing top 1 row\n",
            "\n"
          ],
          "name": "stdout"
        }
      ]
    },
    {
      "cell_type": "markdown",
      "metadata": {
        "id": "CFx7XUHulGR0"
      },
      "source": [
        "**6. Which day of the month is the most of the flights cancelled?**"
      ]
    },
    {
      "cell_type": "code",
      "metadata": {
        "colab": {
          "base_uri": "https://localhost:8080/"
        },
        "id": "5rxYrg18866b",
        "outputId": "05e73471-9481-46c8-e726-da7dedc6ad84"
      },
      "source": [
        "from pyspark.sql.functions import sum, desc\n",
        "dataFrame.groupBy(['DayofMonth']).agg(sum('Cancelled').alias('sum_cancelled')).sort(desc('sum_cancelled')).show(1)"
      ],
      "execution_count": 32,
      "outputs": [
        {
          "output_type": "stream",
          "text": [
            "+----------+-------------+\n",
            "|DayofMonth|sum_cancelled|\n",
            "+----------+-------------+\n",
            "|        11|        99407|\n",
            "+----------+-------------+\n",
            "only showing top 1 row\n",
            "\n"
          ],
          "name": "stdout"
        }
      ]
    },
    {
      "cell_type": "markdown",
      "metadata": {
        "id": "5wgA2EdqlJnJ"
      },
      "source": [
        "**7. Find the on-time (ArrTime - CRSArrTime <= 0) performance for each unique carrier.**"
      ]
    },
    {
      "cell_type": "code",
      "metadata": {
        "colab": {
          "base_uri": "https://localhost:8080/"
        },
        "id": "8Nlojq-IlLPy",
        "outputId": "a961a00d-69d7-4fa5-d1e0-3823ea272979"
      },
      "source": [
        "from pyspark.sql.functions import when, count, col, lit, desc\n",
        "perfDF = dataFrame.groupBy(['UniqueCarrier']).agg((count(lit(when(col('ArrDelay') <= 0, 1)))/count(lit(1))).alias('performance')).sort(desc('performance'))\n",
        "perfDF.show(20)"
      ],
      "execution_count": 9,
      "outputs": [
        {
          "output_type": "stream",
          "text": [
            "+-------------+------------------+\n",
            "|UniqueCarrier|       performance|\n",
            "+-------------+------------------+\n",
            "|           HA| 0.745585473902977|\n",
            "|           AQ|0.6094985781929123|\n",
            "|           9E|0.5894380482824402|\n",
            "|           DH|0.5885502714823093|\n",
            "|           TZ|0.5800067172056425|\n",
            "|           OO| 0.575008581773381|\n",
            "|           WN|0.5678857978538087|\n",
            "|       ML (1)|0.5605618645747784|\n",
            "|           B6|0.5397212762574553|\n",
            "|           YV|0.5394318405350469|\n",
            "|           OH|0.5393689010064364|\n",
            "|           XE|0.5391878259411848|\n",
            "|           FL|0.5381246946973374|\n",
            "|           NW|0.5351327702830385|\n",
            "|           MQ|0.5347082539485878|\n",
            "|           AA|0.5262442285093536|\n",
            "|           F9|0.5157259955246648|\n",
            "|           CO|0.5153851290998489|\n",
            "|       PA (1)|0.5112203360882065|\n",
            "|           EV|0.5094133063708334|\n",
            "+-------------+------------------+\n",
            "only showing top 20 rows\n",
            "\n"
          ],
          "name": "stdout"
        }
      ]
    }
  ]
}